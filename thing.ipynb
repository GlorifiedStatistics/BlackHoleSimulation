{
 "cells": [
  {
   "cell_type": "code",
   "execution_count": 4,
   "metadata": {},
   "outputs": [
    {
     "data": {
      "text/plain": [
       "iinfo(min=0, max=4294967295, dtype=uint32)"
      ]
     },
     "execution_count": 4,
     "metadata": {},
     "output_type": "execute_result"
    }
   ],
   "source": [
    "import numpy as np\n",
    "\n",
    "np.iinfo(np.dtype('uint32'))"
   ]
  },
  {
   "cell_type": "code",
   "execution_count": 7,
   "metadata": {},
   "outputs": [
    {
     "data": {
      "text/plain": [
       "(4294967295, 4294967295)"
      ]
     },
     "execution_count": 7,
     "metadata": {},
     "output_type": "execute_result"
    }
   ],
   "source": [
    "(255 << 24) + (255 << 16) + (255 << 8) + 255, 4294967295"
   ]
  },
  {
   "cell_type": "code",
   "execution_count": 8,
   "metadata": {},
   "outputs": [
    {
     "data": {
      "text/plain": [
       "2"
      ]
     },
     "execution_count": 8,
     "metadata": {},
     "output_type": "execute_result"
    }
   ],
   "source": [
    "import numpy as np\n",
    "\n",
    "a = np.array([\n",
    "    [True, False, False],\n",
    "    [False, True, True],\n",
    "    [False, False, True]\n",
    "])\n",
    "\n",
    "[(r, c) for r, c in np.argwhere(a)]\n",
    "a.ndim"
   ]
  },
  {
   "cell_type": "code",
   "execution_count": 5,
   "metadata": {},
   "outputs": [],
   "source": [
    "from src.camera import ConwaysGOLCamera\n",
    "import numpy as np\n",
    "from timeit import default_timer\n",
    "\n",
    "s = 100000\n",
    "a1 = (np.random.rand(s, s) > 0.4).astype(int)\n",
    "a2 = np.copy(a1)\n",
    "\n",
    "print(\"Starting\")\n",
    "\n",
    "camera = ConwaysGOLCamera(start_state=a1, array_package='numpy')\n",
    "t = default_timer()\n",
    "for i in range(10):\n",
    "    camera.update(None, None)\n",
    "t1 = default_timer() - t\n",
    "\n",
    "print(\"Numpy: %.4f\" % t1)"
   ]
  },
  {
   "cell_type": "code",
   "execution_count": null,
   "metadata": {},
   "outputs": [],
   "source": []
  },
  {
   "cell_type": "code",
   "execution_count": 3,
   "metadata": {},
   "outputs": [
    {
     "data": {
      "text/plain": [
       "tensor([[2, 3, 3, 3, 2],\n",
       "        [3, 5, 4, 4, 2],\n",
       "        [4, 6, 5, 4, 2],\n",
       "        [3, 5, 4, 3, 1]], dtype=torch.int32)"
      ]
     },
     "execution_count": 3,
     "metadata": {},
     "output_type": "execute_result"
    }
   ],
   "source": [
    "import torch\n",
    "\n",
    "a = torch.tensor([\n",
    "    [1, 0, 1, 1, 0],\n",
    "    [1, 0, 0, 1, 0],\n",
    "    [1, 0, 1, 0, 0],\n",
    "    [1, 1, 1, 1, 0],\n",
    "], dtype=torch.int32)\n",
    "\n",
    "f = torch.ones((3, 3), dtype=torch.int32)\n",
    "\n",
    "torch.nn.functional.conv2d(a.unsqueeze(0).unsqueeze(0), f.unsqueeze(0).unsqueeze(0), padding='same', bias=None)[0][0]"
   ]
  },
  {
   "cell_type": "code",
   "execution_count": 25,
   "metadata": {},
   "outputs": [
    {
     "data": {
      "text/plain": [
       "array([[False, False,  True],\n",
       "       [False, False, False],\n",
       "       [False, False,  True]])"
      ]
     },
     "execution_count": 25,
     "metadata": {},
     "output_type": "execute_result"
    }
   ],
   "source": [
    "import numpy as np\n",
    "\n",
    "c = np.array([\n",
    "    [0, 1, 0],\n",
    "    [0, 1, 1],\n",
    "    [1, 1, 0],\n",
    "])\n",
    "nc = np.array([\n",
    "    [2, 3, 3],\n",
    "    [4, 5, 4],\n",
    "    [3, 4, 3],\n",
    "])\n",
    "# (~c & (nc == 3)) | (c & (3 <= nc <= 4))\n",
    "np.logical_and(np.logical_not(c), nc == 3)"
   ]
  },
  {
   "cell_type": "code",
   "execution_count": 27,
   "metadata": {},
   "outputs": [
    {
     "data": {
      "text/plain": [
       "tensor([[-1, -2, -1],\n",
       "        [-1, -2, -2],\n",
       "        [-2, -2, -1]])"
      ]
     },
     "execution_count": 27,
     "metadata": {},
     "output_type": "execute_result"
    }
   ],
   "source": [
    "import torch\n",
    "\n",
    "c = torch.tensor([\n",
    "    [0, 1, 0],\n",
    "    [0, 1, 1],\n",
    "    [1, 1, 0],\n",
    "])\n",
    "nc = torch.tensor([\n",
    "    [2, 3, 3],\n",
    "    [4, 5, 4],\n",
    "    [3, 4, 3],\n",
    "])\n",
    "\n",
    "torch.logical_not()"
   ]
  },
  {
   "cell_type": "code",
   "execution_count": null,
   "metadata": {},
   "outputs": [],
   "source": []
  }
 ],
 "metadata": {
  "kernelspec": {
   "display_name": "Python 3",
   "language": "python",
   "name": "python3"
  },
  "language_info": {
   "codemirror_mode": {
    "name": "ipython",
    "version": 3
   },
   "file_extension": ".py",
   "mimetype": "text/x-python",
   "name": "python",
   "nbconvert_exporter": "python",
   "pygments_lexer": "ipython3",
   "version": "3.9.7"
  }
 },
 "nbformat": 4,
 "nbformat_minor": 2
}
