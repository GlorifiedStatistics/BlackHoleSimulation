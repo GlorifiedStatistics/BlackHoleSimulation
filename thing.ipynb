{
 "cells": [
  {
   "cell_type": "code",
   "execution_count": 4,
   "metadata": {},
   "outputs": [
    {
     "data": {
      "text/plain": [
       "iinfo(min=0, max=4294967295, dtype=uint32)"
      ]
     },
     "execution_count": 4,
     "metadata": {},
     "output_type": "execute_result"
    }
   ],
   "source": [
    "import numpy as np\n",
    "\n",
    "np.iinfo(np.dtype('uint32'))"
   ]
  },
  {
   "cell_type": "code",
   "execution_count": 7,
   "metadata": {},
   "outputs": [
    {
     "data": {
      "text/plain": [
       "(4294967295, 4294967295)"
      ]
     },
     "execution_count": 7,
     "metadata": {},
     "output_type": "execute_result"
    }
   ],
   "source": [
    "(255 << 24) + (255 << 16) + (255 << 8) + 255, 4294967295"
   ]
  },
  {
   "cell_type": "code",
   "execution_count": 8,
   "metadata": {},
   "outputs": [
    {
     "data": {
      "text/plain": [
       "2"
      ]
     },
     "execution_count": 8,
     "metadata": {},
     "output_type": "execute_result"
    }
   ],
   "source": [
    "import numpy as np\n",
    "\n",
    "a = np.array([\n",
    "    [True, False, False],\n",
    "    [False, True, True],\n",
    "    [False, False, True]\n",
    "])\n",
    "\n",
    "[(r, c) for r, c in np.argwhere(a)]\n",
    "a.ndim"
   ]
  },
  {
   "cell_type": "code",
   "execution_count": 2,
   "metadata": {},
   "outputs": [
    {
     "name": "stdout",
     "output_type": "stream",
     "text": [
      "Starting\n",
      "Numpy: 1.7300\n",
      "Torch-cpu: 0.9958\n",
      "Torch-gpu: 0.0264\n",
      "cupy: 0.0434\n"
     ]
    }
   ],
   "source": [
    "from src.camera import ConwaysGOLCamera\n",
    "import numpy as np\n",
    "from timeit import default_timer\n",
    "\n",
    "s = 2000\n",
    "a1 = (np.random.rand(s, s) > 0.4).astype(int)\n",
    "a2 = np.copy(a1)\n",
    "\n",
    "print(\"Starting\")\n",
    "\n",
    "camera = ConwaysGOLCamera(start_state=a1, array_package='numpy')\n",
    "camera.update(None, None, force_update=True)\n",
    "t = default_timer()\n",
    "for i in range(10):\n",
    "    camera.update(None, None, force_update=True)\n",
    "t1 = default_timer() - t\n",
    "\n",
    "print(\"Numpy: %.4f\" % t1)\n",
    "\n",
    "camera = ConwaysGOLCamera(start_state=a1, array_package='torch-cpu')\n",
    "camera.update(None, None, force_update=True)\n",
    "t = default_timer()\n",
    "for i in range(10):\n",
    "    camera.update(None, None, force_update=True)\n",
    "t1 = default_timer() - t\n",
    "\n",
    "print(\"Torch-cpu: %.4f\" % t1)\n",
    "\n",
    "camera = ConwaysGOLCamera(start_state=a1, array_package='torch-gpu')\n",
    "camera.update(None, None, force_update=True)\n",
    "t = default_timer()\n",
    "for i in range(10):\n",
    "    camera.update(None, None, force_update=True)\n",
    "t1 = default_timer() - t\n",
    "\n",
    "print(\"Torch-gpu: %.4f\" % t1)\n",
    "\n",
    "camera = ConwaysGOLCamera(start_state=a1, array_package='cupy')\n",
    "camera.update(None, None, force_update=True)\n",
    "t = default_timer()\n",
    "for i in range(10):\n",
    "    camera.update(None, None, force_update=True)\n",
    "t1 = default_timer() - t\n",
    "\n",
    "print(\"cupy: %.4f\" % t1)"
   ]
  },
  {
   "cell_type": "code",
   "execution_count": null,
   "metadata": {},
   "outputs": [],
   "source": [
    "import numpy as np"
   ]
  },
  {
   "cell_type": "code",
   "execution_count": 10,
   "metadata": {},
   "outputs": [
    {
     "name": "stdout",
     "output_type": "stream",
     "text": [
      "[[0 1 0]\n",
      " [0 1 1]\n",
      " [1 1 0]]\n",
      "[[0 1]\n",
      " [1 1]\n",
      " [1 2]\n",
      " [2 0]\n",
      " [2 1]]\n",
      "[1 1 1 1 1]\n"
     ]
    }
   ],
   "source": [
    "import numpy as np\n",
    "\n",
    "a = np.array([\n",
    "    [0, 1, 0],\n",
    "    [0, 1, 1],\n",
    "    [1, 1, 0],\n",
    "])\n",
    "\n",
    "vals = np.argwhere(a == 1)\n",
    "\n",
    "print(a)\n",
    "print(vals)\n",
    "print(a[vals[:, 0], vals[:, 1]])"
   ]
  },
  {
   "cell_type": "code",
   "execution_count": null,
   "metadata": {},
   "outputs": [],
   "source": []
  },
  {
   "cell_type": "code",
   "execution_count": 6,
   "metadata": {},
   "outputs": [
    {
     "ename": "RuntimeError",
     "evalue": "Input type (torch.cuda.IntTensor) and weight type (torch.cuda.FloatTensor) should be the same",
     "output_type": "error",
     "traceback": [
      "\u001b[1;31m---------------------------------------------------------------------------\u001b[0m",
      "\u001b[1;31mRuntimeError\u001b[0m                              Traceback (most recent call last)",
      "\u001b[1;32m<ipython-input-6-fcff1c9ade5e>\u001b[0m in \u001b[0;36m<module>\u001b[1;34m\u001b[0m\n\u001b[0;32m     10\u001b[0m \u001b[0mf\u001b[0m \u001b[1;33m=\u001b[0m \u001b[0mtorch\u001b[0m\u001b[1;33m.\u001b[0m\u001b[0mones\u001b[0m\u001b[1;33m(\u001b[0m\u001b[1;33m(\u001b[0m\u001b[1;36m3\u001b[0m\u001b[1;33m,\u001b[0m \u001b[1;36m3\u001b[0m\u001b[1;33m)\u001b[0m\u001b[1;33m,\u001b[0m \u001b[0mdtype\u001b[0m\u001b[1;33m=\u001b[0m\u001b[0mtorch\u001b[0m\u001b[1;33m.\u001b[0m\u001b[0mfloat32\u001b[0m\u001b[1;33m)\u001b[0m\u001b[1;33m.\u001b[0m\u001b[0mto\u001b[0m\u001b[1;33m(\u001b[0m\u001b[1;34m'cuda:0'\u001b[0m\u001b[1;33m)\u001b[0m\u001b[1;33m\u001b[0m\u001b[1;33m\u001b[0m\u001b[0m\n\u001b[0;32m     11\u001b[0m \u001b[1;33m\u001b[0m\u001b[0m\n\u001b[1;32m---> 12\u001b[1;33m \u001b[0mtorch\u001b[0m\u001b[1;33m.\u001b[0m\u001b[0mround\u001b[0m\u001b[1;33m(\u001b[0m\u001b[0mtorch\u001b[0m\u001b[1;33m.\u001b[0m\u001b[0mnn\u001b[0m\u001b[1;33m.\u001b[0m\u001b[0mfunctional\u001b[0m\u001b[1;33m.\u001b[0m\u001b[0mconv2d\u001b[0m\u001b[1;33m(\u001b[0m\u001b[0ma\u001b[0m\u001b[1;33m.\u001b[0m\u001b[0munsqueeze\u001b[0m\u001b[1;33m(\u001b[0m\u001b[1;36m0\u001b[0m\u001b[1;33m)\u001b[0m\u001b[1;33m.\u001b[0m\u001b[0munsqueeze\u001b[0m\u001b[1;33m(\u001b[0m\u001b[1;36m0\u001b[0m\u001b[1;33m)\u001b[0m\u001b[1;33m,\u001b[0m \u001b[0mf\u001b[0m\u001b[1;33m.\u001b[0m\u001b[0munsqueeze\u001b[0m\u001b[1;33m(\u001b[0m\u001b[1;36m0\u001b[0m\u001b[1;33m)\u001b[0m\u001b[1;33m.\u001b[0m\u001b[0munsqueeze\u001b[0m\u001b[1;33m(\u001b[0m\u001b[1;36m0\u001b[0m\u001b[1;33m)\u001b[0m\u001b[1;33m)\u001b[0m\u001b[1;33m[\u001b[0m\u001b[1;36m0\u001b[0m\u001b[1;33m]\u001b[0m\u001b[1;33m[\u001b[0m\u001b[1;36m0\u001b[0m\u001b[1;33m]\u001b[0m\u001b[1;33m)\u001b[0m\u001b[1;33m.\u001b[0m\u001b[0mtype\u001b[0m\u001b[1;33m(\u001b[0m\u001b[0mtorch\u001b[0m\u001b[1;33m.\u001b[0m\u001b[0mint32\u001b[0m\u001b[1;33m)\u001b[0m\u001b[1;33m\u001b[0m\u001b[1;33m\u001b[0m\u001b[0m\n\u001b[0m",
      "\u001b[1;31mRuntimeError\u001b[0m: Input type (torch.cuda.IntTensor) and weight type (torch.cuda.FloatTensor) should be the same"
     ]
    }
   ],
   "source": [
    "import torch\n",
    "\n",
    "a = torch.tensor([\n",
    "    [1, 0, 1, 1, 0],\n",
    "    [1, 0, 0, 1, 0],\n",
    "    [1, 0, 1, 0, 0],\n",
    "    [1, 1, 1, 1, 0],\n",
    "], dtype=torch.int32).to('cuda:0')\n",
    "\n",
    "f = torch.ones((3, 3), dtype=torch.float32).to('cuda:0')\n",
    "\n",
    "torch.round(torch.nn.functional.conv2d(a.unsqueeze(0).unsqueeze(0), f.unsqueeze(0).unsqueeze(0))[0][0]).type(torch.int32)"
   ]
  },
  {
   "cell_type": "code",
   "execution_count": 25,
   "metadata": {},
   "outputs": [
    {
     "data": {
      "text/plain": [
       "array([[False, False,  True],\n",
       "       [False, False, False],\n",
       "       [False, False,  True]])"
      ]
     },
     "execution_count": 25,
     "metadata": {},
     "output_type": "execute_result"
    }
   ],
   "source": [
    "import numpy as np\n",
    "\n",
    "c = np.array([\n",
    "    [0, 1, 0],\n",
    "    [0, 1, 1],\n",
    "    [1, 1, 0],\n",
    "])\n",
    "nc = np.array([\n",
    "    [2, 3, 3],\n",
    "    [4, 5, 4],\n",
    "    [3, 4, 3],\n",
    "])\n",
    "# (~c & (nc == 3)) | (c & (3 <= nc <= 4))\n",
    "np.logical_and(np.logical_not(c), nc == 3)"
   ]
  },
  {
   "cell_type": "code",
   "execution_count": 27,
   "metadata": {},
   "outputs": [
    {
     "data": {
      "text/plain": [
       "tensor([[-1, -2, -1],\n",
       "        [-1, -2, -2],\n",
       "        [-2, -2, -1]])"
      ]
     },
     "execution_count": 27,
     "metadata": {},
     "output_type": "execute_result"
    }
   ],
   "source": [
    "import torch\n",
    "\n",
    "c = torch.tensor([\n",
    "    [0, 1, 0],\n",
    "    [0, 1, 1],\n",
    "    [1, 1, 0],\n",
    "])\n",
    "nc = torch.tensor([\n",
    "    [2, 3, 3],\n",
    "    [4, 5, 4],\n",
    "    [3, 4, 3],\n",
    "])\n",
    "\n",
    "torch.logical_not()"
   ]
  },
  {
   "cell_type": "code",
   "execution_count": null,
   "metadata": {},
   "outputs": [],
   "source": []
  }
 ],
 "metadata": {
  "kernelspec": {
   "display_name": "Python 3",
   "language": "python",
   "name": "python3"
  },
  "language_info": {
   "codemirror_mode": {
    "name": "ipython",
    "version": 3
   },
   "file_extension": ".py",
   "mimetype": "text/x-python",
   "name": "python",
   "nbconvert_exporter": "python",
   "pygments_lexer": "ipython3",
   "version": "3.9.5"
  }
 },
 "nbformat": 4,
 "nbformat_minor": 2
}
